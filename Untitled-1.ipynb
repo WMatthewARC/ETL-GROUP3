{
 "cells": [
  {
   "cell_type": "code",
   "execution_count": null,
   "metadata": {},
   "outputs": [],
   "source": [
    "import os\n",
    "import pymysql\n",
    "import pandas as pd\n",
    "\n",
    "host = os.getenv('MYSQL_HOST')\n",
    "port = os.getenv('MYSQL_PORT')\n",
    "user = os.getenv('MYSQL_USER')\n",
    "password = os.getenv('MYSQL_PASSWORD')\n",
    "database = os.getenv('MYSQL_DATABASE')\n",
    "conn = pymysql.connect(\n",
    "    host=\"group3etl.cluster-ci6szv7owa4r.us-east-1.rds.amazonaws.com\",\n",
    "    port=int(3306),\n",
    "    user=\"admin\",\n",
    "    passwd=\"Spkr1491\",\n",
    "    db=\"group3etl\")\n"
   ]
  }
 ],
 "metadata": {
  "language_info": {
   "name": "python"
  },
  "orig_nbformat": 4
 },
 "nbformat": 4,
 "nbformat_minor": 2
}
